{
 "cells": [
  {
   "cell_type": "markdown",
   "metadata": {},
   "source": [
    "# Qiskit入門\n",
    "\n",
    "Yuri Kobayashi, IBM Quantum (Mar 25, 2025)"
   ]
  },
  {
   "cell_type": "markdown",
   "metadata": {},
   "source": [
    "セルを選択して「Shift」＋「Enter」で実行できます。\n",
    "\n",
    "Google Colab で行う場合は、次のセルの「#」を削除して実行します。"
   ]
  },
  {
   "cell_type": "code",
   "execution_count": null,
   "metadata": {},
   "outputs": [],
   "source": [
    "#!pip install qiskit qiskit-ibm-runtime qiskit-aer qiskit[visualization]"
   ]
  },
  {
   "cell_type": "markdown",
   "metadata": {},
   "source": [
    "qBraid で行う場合は、右上の「Python 3[Default]」をクリックして「Python 3[QDC24]」を選択し、次のセルの「#」を削除して実行したあと、上部の「Kernel」→「Restart Kernel...」からカーネルをリスタートしてください。"
   ]
  },
  {
   "cell_type": "code",
   "execution_count": null,
   "metadata": {},
   "outputs": [],
   "source": [
    "#!pip install pylatexenc\n",
    "#!sudo apt install graphviz --yes"
   ]
  },
  {
   "cell_type": "code",
   "execution_count": null,
   "metadata": {},
   "outputs": [],
   "source": [
    "# Qiskitバージョンの確認\n",
    "import qiskit\n",
    "qiskit.__version__"
   ]
  },
  {
   "cell_type": "markdown",
   "metadata": {},
   "source": [
    "### 目次:\n",
    "1. 1量子ビット回路をつくってみよう\n",
    "2. 2量子ビット回路をつくってみよう\n",
    "3. 量子もつれと実デバイスでの測定\n",
    "4. 量子テレポーテーション"
   ]
  },
  {
   "cell_type": "code",
   "execution_count": null,
   "metadata": {},
   "outputs": [],
   "source": [
    "# Qiskitライブラリーを導入\n",
    "\n",
    "#量子回路インスタンスを作成するクラス\n",
    "from qiskit import QuantumCircuit\n",
    "\n",
    "#量子シミュレーター\n",
    "from qiskit_aer import StatevectorSimulator, AerSimulator\n",
    "\n",
    "#量子回路をハードウェア（実機）で実行する前に回路を最適化してくれるトランスパイラーパス\n",
    "from qiskit.transpiler.preset_passmanagers import generate_preset_pass_manager \n",
    "\n",
    "#IBM Cloud経由の量子回路の実行環境\n",
    "from qiskit_ibm_runtime import QiskitRuntimeService\n",
    "from qiskit_ibm_runtime import SamplerV2 #量子回路の出力をサンプリングしてくれる\n",
    "\n",
    "#各種視覚ツール\n",
    "from qiskit.visualization import plot_bloch_multivector\n",
    "from qiskit.visualization import plot_histogram\n",
    "from qiskit.visualization import plot_gate_map\n",
    "\n",
    "#数値計算用のライブラリ\n",
    "import numpy as np"
   ]
  },
  {
   "cell_type": "markdown",
   "metadata": {},
   "source": [
    "## 1. 1量子ビット回路\n",
    "まず1量子ビット回路から始めます。"
   ]
  },
  {
   "cell_type": "markdown",
   "metadata": {},
   "source": [
    "### 空の回路"
   ]
  },
  {
   "cell_type": "code",
   "execution_count": null,
   "metadata": {
    "scrolled": true,
    "tags": []
   },
   "outputs": [],
   "source": [
    "# １量子ビット回路を用意\n",
    "qc = QuantumCircuit(1)\n",
    "\n",
    "# 回路を描画\n",
    "qc.draw(output=\"mpl\")"
   ]
  },
  {
   "cell_type": "markdown",
   "metadata": {},
   "source": [
    "### Xゲート"
   ]
  },
  {
   "cell_type": "code",
   "execution_count": null,
   "metadata": {
    "scrolled": true,
    "tags": []
   },
   "outputs": [],
   "source": [
    "qc = QuantumCircuit(1)    # １量子ビット回路を用意\n",
    "\n",
    "# Xゲートを0番目の量子ビットに操作します。\n",
    "qc.x(0)\n",
    "\n",
    "# 回路を描画\n",
    "qc.draw(output=\"mpl\")"
   ]
  },
  {
   "cell_type": "markdown",
   "metadata": {},
   "source": [
    "Qiskitでは、各量子ビットの初期状態は$|0\\rangle$にセットされていますので、上記の量子回路は、行列ベクトル表示では\n",
    "\n",
    "$X|0\\rangle=  \\begin{pmatrix}\n",
    "0 & 1 \\\\\\\n",
    "1 & 0\n",
    "\\end{pmatrix} \n",
    "\\begin{pmatrix}\n",
    "1 \\\\\\\n",
    "0\n",
    "\\end{pmatrix} \n",
    " =\\begin{pmatrix}\n",
    "0 \\\\\\\n",
    "1\n",
    "\\end{pmatrix} = |1\\rangle$ \n",
    "\n",
    "となります。次にこの回路の出力ベクトルを状態ベクトルシミュレーターを使って実行してみます。"
   ]
  },
  {
   "cell_type": "code",
   "execution_count": null,
   "metadata": {},
   "outputs": [],
   "source": [
    "# 状態ベクトルシミュレーターの実行\n",
    "backend = StatevectorSimulator()\n",
    "result = backend.run(qc).result().get_statevector(qc, decimals=3)\n",
    "print(result)\n",
    "\n",
    "# ブロッホ球の表示\n",
    "plot_bloch_multivector(result)"
   ]
  },
  {
   "cell_type": "markdown",
   "metadata": {},
   "source": [
    "縦ベクトルが横ベクトル表示で、複素数(虚部の添字は j )で表示されています。\n",
    "\n",
    "### Hゲート\n",
    "いよいよ量子コンピューターならではの操作、「重ね合わせ」をつくっていきます。"
   ]
  },
  {
   "cell_type": "code",
   "execution_count": null,
   "metadata": {
    "scrolled": true,
    "tags": []
   },
   "outputs": [],
   "source": [
    "qc = QuantumCircuit(1)    # １量子ビット回路を用意 \n",
    "\n",
    "# 重ね合わせをつくるには、Hゲートを量子ビットに操作します。\n",
    "qc.h(0)\n",
    "\n",
    "# 回路を描画\n",
    "qc.draw(output=\"mpl\")"
   ]
  },
  {
   "cell_type": "markdown",
   "metadata": {},
   "source": [
    "　つづいて先程と同じように状態ベクトルシミュレーターをつかって回路を実行し、ブロッホ球で表示させます。"
   ]
  },
  {
   "cell_type": "code",
   "execution_count": null,
   "metadata": {
    "scrolled": true,
    "tags": []
   },
   "outputs": [],
   "source": [
    "# 状態ベクトルシミュレーターの実行\n",
    "backend = StatevectorSimulator()\n",
    "result = backend.run(qc).result().get_statevector(qc, decimals=3)\n",
    "print(result)\n",
    "\n",
    "# ブロッホ球の表示\n",
    "plot_bloch_multivector(result)"
   ]
  },
  {
   "cell_type": "markdown",
   "metadata": {},
   "source": [
    "これは、$H|0\\rangle= \\frac{1}{\\sqrt{2}} \\begin{pmatrix}\n",
    "1 & 1 \\\\\\\n",
    "1 & -1\n",
    "\\end{pmatrix} \n",
    "\\begin{pmatrix}\n",
    "1 \\\\\\\n",
    "0\n",
    "\\end{pmatrix} \n",
    " =\\frac{1}{\\sqrt{2}}\\begin{pmatrix}\n",
    "1 \\\\\\\n",
    "1\n",
    "\\end{pmatrix} \n",
    "=\\begin{pmatrix}\n",
    "0.707 \\\\\\\n",
    "0.707\n",
    "\\end{pmatrix} \n",
    "=\\frac{1}{\\sqrt{2}}（|0\\rangle+|1\\rangle)$ です。\n",
    "\n",
    "\n",
    "\n",
    "\n",
    "つまり、$H$ゲートを$|0\\rangle$に実行すると、$|0\\rangle$と$|1\\rangle$の均等な重ね合わせ状態が作れることが分かります。"
   ]
  },
  {
   "cell_type": "markdown",
   "metadata": {},
   "source": [
    "### $|-\\rangle$ 状態\n",
    "次に、マイナスの量子状態$|-\\rangle$をつくってみましょう。"
   ]
  },
  {
   "cell_type": "code",
   "execution_count": null,
   "metadata": {
    "scrolled": true,
    "tags": []
   },
   "outputs": [],
   "source": [
    "qc = QuantumCircuit(1)    # １量子ビット回路を用意 \n",
    "\n",
    "# Xゲートを0番目の量子ビットに操作します。\n",
    "qc.x(0)\n",
    "\n",
    "# 次にHゲートを0番目の量子ビットに操作します。\n",
    "qc.h(0)\n",
    "\n",
    "# 回路を描画\n",
    "qc.draw(output=\"mpl\")"
   ]
  },
  {
   "cell_type": "code",
   "execution_count": null,
   "metadata": {
    "scrolled": true,
    "tags": []
   },
   "outputs": [],
   "source": [
    "# 状態ベクトルシミュレーターの実行\n",
    "backend = StatevectorSimulator()\n",
    "result = backend.run(qc).result().get_statevector(qc, decimals=3)\n",
    "print(result)\n",
    "\n",
    "# ブロッホ球の表示\n",
    "plot_bloch_multivector(result)"
   ]
  },
  {
   "cell_type": "markdown",
   "metadata": {},
   "source": [
    "$H|1\\rangle= \\frac{1}{\\sqrt{2}} \\begin{pmatrix}\n",
    "1 & 1 \\\\\\\n",
    "1 & -1\n",
    "\\end{pmatrix} \n",
    "\\begin{pmatrix}\n",
    "0 \\\\\\\n",
    "1\n",
    "\\end{pmatrix} \n",
    " =\\frac{1}{\\sqrt{2}}\\begin{pmatrix}\n",
    "1 \\\\\\\n",
    "-1\n",
    "\\end{pmatrix} \n",
    "=\\begin{pmatrix}\n",
    "0.707 \\\\\\\n",
    "-0.707\n",
    "\\end{pmatrix} \n",
    "=\\frac{1}{\\sqrt{2}}（|0\\rangle-|1\\rangle)$\n",
    "\n",
    "\n",
    "$|1\\rangle$に$H$ゲートを実行した結果、$|0\\rangle$と$|1\\rangle$の均等な重ね合わせ状態になりますが、$|1\\rangle$の符号がマイナスになります。\n",
    "\n",
    "マイナス$|-\\rangle$  の符号はプラス$|+\\rangle$  と直行する基底になり量子計算において位相という概念をもたらします。この位相が「干渉」をおこすように"
   ]
  },
  {
   "cell_type": "markdown",
   "metadata": {},
   "source": [
    "## 2. 2量子ビット回路"
   ]
  },
  {
   "cell_type": "markdown",
   "metadata": {},
   "source": [
    "演習2−1：2量子ビットの回路をつくり、各量子ビットにアダマールゲートを操作して回路を描画してみましょう。"
   ]
  },
  {
   "cell_type": "code",
   "execution_count": null,
   "metadata": {
    "scrolled": true,
    "tags": []
   },
   "outputs": [],
   "source": [
    "# ２量子ビット回路を作成します。\n",
    "qc = QuantumCircuit(2)\n",
    "\n",
    "# Hゲートを0番目の量子ビットに操作します。\n",
    "qc.h(0)\n",
    "\n",
    "# Hゲートを1番目の量子ビットに操作します。\n",
    "qc.h(1)\n",
    "\n",
    "# 回路を描画\n",
    "qc.draw(output=\"mpl\")"
   ]
  },
  {
   "cell_type": "code",
   "execution_count": null,
   "metadata": {
    "scrolled": true,
    "tags": []
   },
   "outputs": [],
   "source": [
    "# 状態ベクトルシミュレーターの実行\n",
    "backend = StatevectorSimulator()\n",
    "result = backend.run(qc).result().get_statevector(qc, decimals=3)\n",
    "print(result)"
   ]
  },
  {
   "cell_type": "markdown",
   "metadata": {},
   "source": [
    "２量子ビットの状態は、１量子ビットの積（テンソル積）で表せます。\n",
    "\n",
    "$|q0\\rangle \\otimes|q1\\rangle = (a|0\\rangle+b|1\\rangle) \\otimes (c|0\\rangle+d|1\\rangle) $\n",
    "\n",
    "$= ac|0\\rangle|0\\rangle+ad|0\\rangle|1\\rangle+bc|1\\rangle|0\\rangle+bd|1\\rangle|1\\rangle$\n",
    "\n",
    "$= ac|00\\rangle+ad|01\\rangle+bc|10\\rangle+bd|11\\rangle$\n",
    "\n",
    "(ただし、$|ac|^2+ |ad|^2+ |bc|^2+ |bd|^2=1$ )\n",
    "\n",
    "\n",
    "Qiskitの初期値は、$|0\\rangle|0\\rangle=|00\\rangle$なので、$H$をそれぞれの量子ビットに操作させることで均等な重ね合わせの状態になります。\n",
    "\n",
    "$H|0\\rangle \\otimes H|0\\rangle=\\frac{1}{\\sqrt{2}}(|0\\rangle+|1\\rangle) \\otimes \\frac{1}{\\sqrt{2}}(|0\\rangle+|1\\rangle) = \\frac{1}{2}(|00\\rangle+|01\\rangle+|10\\rangle+|11\\rangle)$\n",
    "\n",
    "$$ \n",
    "=\\frac{1}{2}\\left( \\begin{bmatrix} 1 \\\\ 1 \\end{bmatrix} \\otimes \\begin{bmatrix} 1 \\\\ 1 \\end{bmatrix}\\right) = \\frac{1}{2}\\begin{bmatrix} 1 \\\\ 1 \\\\ 1 \\\\ 1 \\end{bmatrix}=\\frac{1}{2}\\left(\\begin{bmatrix} 1 \\\\ 0 \\\\ 0 \\\\ 0 \\end{bmatrix}+\\begin{bmatrix} 0 \\\\ 1 \\\\ 0 \\\\ 0 \\end{bmatrix}+\\begin{bmatrix} 0 \\\\ 0 \\\\ 1 \\\\ 0 \\end{bmatrix}+\\begin{bmatrix} 0 \\\\ 0 \\\\ 0 \\\\ 1 \\end{bmatrix}\\right)\n",
    "$$\n"
   ]
  },
  {
   "cell_type": "code",
   "execution_count": null,
   "metadata": {
    "scrolled": true,
    "tags": []
   },
   "outputs": [],
   "source": [
    "# ブロッホ球の表示\n",
    "plot_bloch_multivector(result)"
   ]
  },
  {
   "cell_type": "markdown",
   "metadata": {},
   "source": [
    "## 3. 量子もつれと実デバイスでの測定\n",
    "エンタングルメント状態を作り実デバイスで測定してみます。\n",
    "\n",
    "2量子ビットの量子もつれ状態の1つの例が次のような形になります。(ベル状態と呼ばれます。)\n",
    "$$\\frac{1}{\\sqrt{2}}|00\\rangle + \\frac{1}{\\sqrt{2}}|11\\rangle$$\n",
    "\n",
    "これは、「片方の量子ビットが$|0\\rangle$の場合に、もう片方の量子ビットも$|0\\rangle$になっている」状態と、「片方の量子ビットが$|1\\rangle$の場合に、もう片方の量子ビットも$|1\\rangle$になっている」状態の重ね合わせ状態になっています。つまり、片方の量子ビットの状態が決まると、残りの量子ビットが確定するような状態となっています。また別の言い方をすると、$|00\\rangle$と$|11\\rangle$という2つのデータが半々の確率で観測されることを示しています。<br>\n",
    "\n",
    "上記の状態をつくるには、まず量子ビット$q_0$に$H$ゲートをかけて重ね合わせの状態にします。つまり、\n",
    "$$ |00\\rangle \\rightarrow  \\frac{1}{\\sqrt{2}}|00\\rangle  + \\frac{1}{\\sqrt{2}}|01\\rangle  $$\n",
    "\n",
    "その後、量子ビット$q_0$をコントロールビット、量子ビット$q_1$をターゲットビットとして、CXゲートを作用させます。これによって、右のビットが1の項のみ、左のビットが反転されます。\n",
    "$$ \\frac{1}{\\sqrt{2}}|00\\rangle  + \\frac{1}{\\sqrt{2}}|01\\rangle \\rightarrow \\frac{1}{\\sqrt{2}}|00\\rangle  + \\frac{1}{\\sqrt{2}}|11\\rangle $$\n",
    "\n",
    "では、実際にこの量子状態を作ってみましょう。<br>\n"
   ]
  },
  {
   "cell_type": "code",
   "execution_count": null,
   "metadata": {
    "scrolled": true,
    "tags": []
   },
   "outputs": [],
   "source": [
    "# ２量子ビット回路を作成します。\n",
    "qc = QuantumCircuit(2,2)    # 2量子ビット, 2古典ビットレジスター\n",
    "\n",
    "# ゲートを適用します。\n",
    "# Hゲートをq0に適用\n",
    "qc.h(0)\n",
    "# CXゲートをq0からq1に適用\n",
    "qc.cx(0,1)    \n",
    "\n",
    "# 測定ゲートを追加\n",
    "qc.measure(0,0)    # 量子ビットq0を測定して、古典レジスターc0に入れます\n",
    "qc.measure(1,1)    # 量子ビットq1を測定して、古典レジスターc1に入れます\n",
    "\n",
    "# 回路を描画\n",
    "qc.draw(output=\"mpl\")"
   ]
  },
  {
   "cell_type": "markdown",
   "metadata": {},
   "source": [
    "まず、AerSimulator（量子計算シミュレーター）で計算させ、測定します。1024回実行した結果、それぞれの状態が測定された回数を表示し、その測定確率をヒストグラムで表示します。"
   ]
  },
  {
   "cell_type": "code",
   "execution_count": null,
   "metadata": {
    "scrolled": true,
    "tags": []
   },
   "outputs": [],
   "source": [
    "# シミュレーターで実験\n",
    "backend = AerSimulator()\n",
    "sampler = SamplerV2(backend)\n",
    "job = sampler.run([qc])\n",
    "result = job.result()\n",
    "\n",
    "#  測定された回数を表示\n",
    "counts = result[0].data.c.get_counts()\n",
    "print(counts)\n",
    "\n",
    "## ヒストグラムで測定された確率をプロット\n",
    "plot_histogram( counts )"
   ]
  },
  {
   "cell_type": "markdown",
   "metadata": {},
   "source": [
    "$|00\\rangle$と$|11\\rangle$がほぼ同じ割合で測定されました。"
   ]
  },
  {
   "cell_type": "markdown",
   "metadata": {},
   "source": [
    "次に、以下のコードを実行して実デバイスで計算してみましょう。"
   ]
  },
  {
   "cell_type": "code",
   "execution_count": null,
   "metadata": {
    "scrolled": true,
    "tags": []
   },
   "outputs": [],
   "source": [
    "# アカウント情報をロードして、使える量子デバイスを確認します\n",
    "\n",
    "# local環境で初めて実行する場合は、認証情報をディスクに保存します。\n",
    "# API tokenを[IBM Quantum Platform](https://quantum.ibm.com/)で確認してください。\n",
    "# QiskitRuntimeService.save_account(channel='ibm_quantum', token='<your_token>', overwrite=True)\n",
    "\n",
    "service = QiskitRuntimeService()\n",
    "service.backends()"
   ]
  },
  {
   "cell_type": "code",
   "execution_count": null,
   "metadata": {
    "tags": []
   },
   "outputs": [],
   "source": [
    "# 以下でデバイスを指定できます。\n",
    "backend = service.backend('ibm_kyiv')"
   ]
  },
  {
   "cell_type": "code",
   "execution_count": null,
   "metadata": {},
   "outputs": [],
   "source": [
    "#一番空いているバックエンドを自動的に選択することもできます\n",
    "backend = service.least_busy(operational=True)\n",
    "print(\"最も空いているバックエンドは:  \", backend)"
   ]
  },
  {
   "cell_type": "markdown",
   "metadata": {},
   "source": [
    "バックエンドのカップリングマップを見てみましょう。すべての量子ビットがつながっているのではなく、また、制御ゲートの実行できる方向にも制限があります。"
   ]
  },
  {
   "cell_type": "code",
   "execution_count": null,
   "metadata": {},
   "outputs": [],
   "source": [
    "plot_gate_map(backend, figsize=(6,6), plot_directed=True, qubit_size=40, font_size=20)"
   ]
  },
  {
   "cell_type": "markdown",
   "metadata": {},
   "source": [
    "また、バックエンドで実行可能な基本ゲートを見てみます。"
   ]
  },
  {
   "cell_type": "code",
   "execution_count": null,
   "metadata": {},
   "outputs": [],
   "source": [
    "backend.basis_gates"
   ]
  },
  {
   "cell_type": "markdown",
   "metadata": {},
   "source": [
    "このカップリングマップや基本ゲートは、量子プロセッサーによって異なります。参照：https://quantum.ibm.com/services/resources"
   ]
  },
  {
   "cell_type": "markdown",
   "metadata": {},
   "source": [
    "実機で実行する前に、指定したバックエンドで実行可能なゲートと回路にトランスパイルする必要があります。"
   ]
  },
  {
   "cell_type": "code",
   "execution_count": null,
   "metadata": {},
   "outputs": [],
   "source": [
    "# 実機で計算できる回路にトランスパイルします\n",
    "pm = generate_preset_pass_manager(backend=backend, optimization_level=1)\n",
    "target_circuit = pm.run(qc)\n",
    "\n",
    "target_circuit.draw(\"mpl\", idle_wires=False)"
   ]
  },
  {
   "cell_type": "code",
   "execution_count": null,
   "metadata": {
    "scrolled": true,
    "tags": []
   },
   "outputs": [],
   "source": [
    "# 実機のバックエンドで実行します\n",
    "sampler = SamplerV2(backend)\n",
    "job_real = sampler.run([target_circuit])\n",
    "\n",
    "print(\"job id:\", job_real.job_id())"
   ]
  },
  {
   "cell_type": "code",
   "execution_count": null,
   "metadata": {
    "scrolled": true,
    "tags": []
   },
   "outputs": [],
   "source": [
    "# ジョブの実行状態を確認します\n",
    "job_real.status()"
   ]
  },
  {
   "cell_type": "code",
   "execution_count": null,
   "metadata": {
    "tags": []
   },
   "outputs": [],
   "source": [
    "# 待ち時間が長い時に後から結果を確認する場合\n",
    "from qiskit_ibm_runtime import QiskitRuntimeService\n",
    "service = QiskitRuntimeService()    \n",
    "job_real = service.job('cxhwfrqvw7kg008sc9w0') # 例です。上に出力された自分のjob_idを入れて実行してください。"
   ]
  },
  {
   "cell_type": "code",
   "execution_count": null,
   "metadata": {
    "tags": []
   },
   "outputs": [],
   "source": [
    "# ジョブの実行状態を確認します\n",
    "job_real.status()"
   ]
  },
  {
   "cell_type": "code",
   "execution_count": null,
   "metadata": {
    "scrolled": true,
    "tags": []
   },
   "outputs": [],
   "source": [
    "### 'DONE'になってから実行します ###\n",
    "result_real = job_real.result()\n",
    "print(result_real[0].data.c.get_counts())\n",
    "\n",
    "plot_histogram(result_real[0].data.c.get_counts())"
   ]
  },
  {
   "cell_type": "markdown",
   "metadata": {},
   "source": [
    "実機の量子コンピューターにはノイズが含まれます。より良い結果を得るためには、実行を早く終わらせるために回路を短くする工夫や、より精度の良い量子ビットの選択、量子回路を物理量子ビットへマップする際（トランスパイルの際）に回路が大きくならないようにする工夫が必要となります。トランスパイルの最適化は、 optimization_level で選択可能です。また、ノイズをソフトウェア的に緩和するエラー緩和の手法を使うなど、さまざまな手法が研究されています。"
   ]
  },
  {
   "cell_type": "markdown",
   "metadata": {},
   "source": [
    "## 4. 量子テレポーテーション"
   ]
  },
  {
   "cell_type": "code",
   "execution_count": null,
   "metadata": {},
   "outputs": [],
   "source": [
    "# 3量子ビット回路を用意\n",
    "qc = QuantumCircuit(3,3)    \n",
    "\n",
    "# Aliceのもつ暗号の量子状態ψを今回はRxで作ります\n",
    "qc.rx(np.pi/3,0)\n",
    "qc.barrier()    #回路を見やすくするために入れます\n",
    "\n",
    "# 回路を描画\n",
    "qc.draw(output=\"mpl\")"
   ]
  },
  {
   "cell_type": "code",
   "execution_count": null,
   "metadata": {},
   "outputs": [],
   "source": [
    "backend = StatevectorSimulator()\n",
    "out_vector = backend.run(qc, shots=1).result().get_statevector() # set shots = 1\n",
    "\n",
    "plot_bloch_multivector(out_vector)"
   ]
  },
  {
   "cell_type": "code",
   "execution_count": null,
   "metadata": {},
   "outputs": [],
   "source": [
    "# 量子もつれを作ります\n",
    "qc.h(1)\n",
    "qc.cx(1, 2)\n",
    "qc.barrier()    #回路を見やすくするために入れます\n",
    "\n",
    "# 回路を描画\n",
    "qc.draw(output=\"mpl\")"
   ]
  },
  {
   "cell_type": "code",
   "execution_count": null,
   "metadata": {},
   "outputs": [],
   "source": [
    "# AliceがCNOTとHで、自分の量子ビット2つをエンタングルさせ測定します。\n",
    "qc.cx(0, 1)\n",
    "qc.h(0)\n",
    "qc.barrier()\n",
    "qc.measure(0, 0)\n",
    "qc.measure(1, 1)\n",
    "\n",
    "# 回路を描画\n",
    "qc.draw(output=\"mpl\")"
   ]
  },
  {
   "cell_type": "code",
   "execution_count": null,
   "metadata": {},
   "outputs": [],
   "source": [
    "#Aliceが測定結果をBobに送り、Bobが結果に合わせて操作します\n",
    "with qc.if_test((0, 1)): # 古典レジスター0の値が1だったらZゲートをq2にかける\n",
    "    qc.z(2)\n",
    "with qc.if_test((1, 1)): # 古典レジスター1の値が1だったらXゲートをq2にかける\n",
    "    qc.x(2)\n",
    "    \n",
    "qc.draw(output=\"mpl\")"
   ]
  },
  {
   "cell_type": "markdown",
   "metadata": {},
   "source": [
    "量子テレポーテーション回路が完成しました。qubit2にqubit0の量子状態($R_x(\\pi/3)$)が転送されていることを確認しましょう。"
   ]
  },
  {
   "cell_type": "code",
   "execution_count": null,
   "metadata": {},
   "outputs": [],
   "source": [
    "backend = StatevectorSimulator()\n",
    "out_vector = backend.run(qc,shots=1).result().get_statevector()\n",
    "\n",
    "plot_bloch_multivector(out_vector)"
   ]
  },
  {
   "cell_type": "markdown",
   "metadata": {},
   "source": [
    "Bobに暗号の量子状態が転送されたことを確認するために、最後にBobの量子ビットに逆向きのX軸回転を適用して、シミュレーターで実験し、測定結果が0になることを確認します。"
   ]
  },
  {
   "cell_type": "code",
   "execution_count": null,
   "metadata": {},
   "outputs": [],
   "source": [
    "# 3量子ビット回路を用意\n",
    "qc = QuantumCircuit(3,3)  \n",
    "\n",
    "# Aliceのもつ未知の量子状態ψをRxで作ります。角度はπ/3にしました。\n",
    "qc.rx(np.pi/3,0)\n",
    "qc.barrier()    #回路を見やすくするために入れます\n",
    "\n",
    "# 量子もつれを作ります\n",
    "qc.h(1)\n",
    "qc.cx(1, 2)\n",
    "qc.barrier()\n",
    "\n",
    "# AliceがCNOTとHで自分の量子ビット2つをエンタングルさせ測定します。\n",
    "qc.cx(0, 1)\n",
    "qc.h(0)\n",
    "qc.barrier()\n",
    "qc.measure(0, 0)\n",
    "qc.measure(1, 1)\n",
    "\n",
    "#Aliceが測定結果をBobに送り、Bobが結果に合わせて操作します\n",
    "with qc.if_test((0, 1)): # 古典レジスター0の値が1だったらZゲートをq2にかける\n",
    "    qc.z(2)\n",
    "with qc.if_test((1, 1)): # 古典レジスター1の値が1だったらXゲートをq2にかける\n",
    "    qc.x(2)\n",
    "\n",
    "# 未知の量子状態ψの逆ゲートをかけて０が測定できるか確かめます\n",
    "qc.rx(-np.pi/3, 2)    \n",
    "qc.measure(2, 2)\n",
    "\n",
    "qc.draw(output=\"mpl\")"
   ]
  },
  {
   "cell_type": "code",
   "execution_count": null,
   "metadata": {},
   "outputs": [],
   "source": [
    "# シミュレーターで実験\n",
    "backend = AerSimulator()\n",
    "\n",
    "# Samplerで実行\n",
    "sampler = SamplerV2(backend)\n",
    "job = sampler.run([qc])\n",
    "result = job.result()\n",
    "\n",
    "\n",
    "#  測定された回数を表示\n",
    "counts = result[0].data.c.get_counts()\n",
    "print(counts)\n",
    "\n",
    "# ヒストグラムで測定された確率をプロット\n",
    "plot_histogram(counts)"
   ]
  },
  {
   "cell_type": "markdown",
   "metadata": {},
   "source": [
    "qiskitのビット配列は右端が0なので、Bobのビット(qubit 2)は左端です。左端のビットが全て0になっていることが確認できましたか？"
   ]
  },
  {
   "cell_type": "markdown",
   "metadata": {},
   "source": [
    "## 演習\n",
    "\n",
    "量子テレポーテーション回路を自分で組んで表示してみましょう。<br>\n",
    "今回は、未知の量子状態をY軸回転ゲート(`ry`を使います。角度は自由に決めます。)で作ってみましょう。<br>\n",
    "Bobに未知の量子状態が転送されたことを確認するために、最後にBobの量子ビットに逆向きのY軸回転(角度にマイナスをつけます)を適用して、シミュレーターで実験し、測定結果が0になることを確認しましょう。\n",
    "\n",
    "時間に余裕がある方は、実デバイスでも上記の実験を行ってみましょう。"
   ]
  },
  {
   "cell_type": "code",
   "execution_count": null,
   "metadata": {},
   "outputs": [],
   "source": [
    "# 3量子ビット回路を用意\n",
    "qc = QuantumCircuit(3,3)    \n",
    "\n",
    "##量子テレポーテーションのコードを作ってください##\n",
    "# Aliceのもつ未知の量子状態ψをRyで作ります。\n",
    "\n",
    "\n",
    "# 量子もつれを作ります\n",
    "\n",
    "\n",
    "# AliceがCNOTとHでψと自分のEPRペアをエンタングルさせ測定します。\n",
    "\n",
    "\n",
    "#Aliceが測定結果をBobに送り、Bobが結果に合わせて操作します\n",
    "\n",
    "\n",
    "# 未知の量子状態ψの逆向きの演算をかけて０が測定できるか確かめます\n",
    "\n",
    "\n",
    "# 回路を描画\n",
    "qc.draw(output=\"mpl\")"
   ]
  },
  {
   "cell_type": "code",
   "execution_count": null,
   "metadata": {},
   "outputs": [],
   "source": [
    "# シミュレーターで実験の際に使うコード例\n",
    "backend = AerSimulator()\n",
    "\n",
    "# Samplerで実行\n",
    "sampler = SamplerV2(backend)\n",
    "job = sampler.run([qc])\n",
    "result = job.result()\n",
    "\n",
    "#  測定された回数を表示\n",
    "counts = result[0].data.c.get_counts()\n",
    "print(counts)\n",
    "\n",
    "# ヒストグラムで測定された確率をプロット\n",
    "plot_histogram(counts)"
   ]
  },
  {
   "cell_type": "code",
   "execution_count": null,
   "metadata": {},
   "outputs": [],
   "source": [
    "# Bobのビットの結果のみ抜き出します\n",
    "bobs_qubit = 2\n",
    "bobs_counts = marginal_counts(result[0].data.c.get_counts(), [bobs_qubit])\n",
    "plot_histogram(bobs_counts)"
   ]
  },
  {
   "cell_type": "markdown",
   "metadata": {},
   "source": [
    "### 付録：実機での実行\n",
    "シミュレーターで測定結果が0になることを確認できてから、実機で実行してみましょう。回路のDepthを短くするために、まず上で作ったテレポーテーション回路のコードから`qc.barrier()`を取り除きます。"
   ]
  },
  {
   "cell_type": "code",
   "execution_count": null,
   "metadata": {},
   "outputs": [],
   "source": [
    "# 3量子ビット回路を用意\n",
    "qc = QuantumCircuit(3,3)    \n",
    "\n",
    "# Aliceのもつ未知の量子状態ψをRyで作ります。\n",
    "\n",
    "\n",
    "# 量子もつれを作ります\n",
    "\n",
    "\n",
    "# AliceがCNOTとHでψと自分のEPRペアをエンタングルさせ測定します。\n",
    "\n",
    "\n",
    "#Aliceが測定結果をBobに送り、Bobが結果に合わせて操作します\n",
    "\n",
    "\n",
    "# 未知の量子状態ψの逆向きの演算をかけて０が測定できるか確かめます\n",
    "\n",
    "\n",
    "# 回路を描画\n",
    "qc.draw(output=\"mpl\")"
   ]
  },
  {
   "cell_type": "code",
   "execution_count": null,
   "metadata": {},
   "outputs": [],
   "source": [
    "# アカウント情報をロードして、使える量子デバイスを確認します\n",
    "\n",
    "# local環境で初めて実行する場合は、認証情報をディスクに保存します。\n",
    "# API tokenを[IBM Quantum Platform](https://quantum.ibm.com/)で確認してください。\n",
    "# QiskitRuntimeService.save_account(channel='ibm_quantum', token='<your_token>', overwrite=True)\n",
    "\n",
    "service = QiskitRuntimeService()\n",
    "service.backends()"
   ]
  },
  {
   "cell_type": "code",
   "execution_count": null,
   "metadata": {},
   "outputs": [],
   "source": [
    "# 以下でデバイスを指定できます。\n",
    "backend = service.backend('ibm_kyiv')"
   ]
  },
  {
   "cell_type": "code",
   "execution_count": null,
   "metadata": {},
   "outputs": [],
   "source": [
    "#一番空いているバックエンドを自動的に選択することもできます\n",
    "backend = service.least_busy(operational=True)\n",
    "print(\"最も空いているバックエンドは:  \", backend)"
   ]
  },
  {
   "cell_type": "code",
   "execution_count": null,
   "metadata": {},
   "outputs": [],
   "source": [
    "# 実機で計算できる回路にトランスパイルします\n",
    "pm = generate_preset_pass_manager(backend=backend, optimization_level=3)\n",
    "target_circuit = pm.run(qc)\n",
    "\n",
    "target_circuit.draw(\"mpl\", idle_wires=False)"
   ]
  },
  {
   "cell_type": "code",
   "execution_count": null,
   "metadata": {},
   "outputs": [],
   "source": [
    "# 実機のバックエンドで実行します\n",
    "sampler = SamplerV2(backend)\n",
    "job_real = sampler.run([target_circuit])\n",
    "\n",
    "print(\"job id:\", job_real.job_id())"
   ]
  },
  {
   "cell_type": "code",
   "execution_count": null,
   "metadata": {},
   "outputs": [],
   "source": [
    "# ジョブの実行状態を確認します\n",
    "job_real.status()"
   ]
  },
  {
   "cell_type": "code",
   "execution_count": null,
   "metadata": {},
   "outputs": [],
   "source": [
    "# 待ち時間が長い時に後から結果を確認する場合\n",
    "from qiskit_ibm_runtime import QiskitRuntimeService\n",
    "service = QiskitRuntimeService()    \n",
    "job_real = service.job('cy54yga01rbg008j3q6g') # 例です。上に出力された自分のjob_idを入れて実行してください。"
   ]
  },
  {
   "cell_type": "code",
   "execution_count": null,
   "metadata": {},
   "outputs": [],
   "source": [
    "# ジョブの実行状態を確認します\n",
    "job_real.status()"
   ]
  },
  {
   "cell_type": "code",
   "execution_count": null,
   "metadata": {},
   "outputs": [],
   "source": [
    "### 'DONE'になってから実行します ###\n",
    "result_real = job_real.result()\n",
    "print(result_real[0].data.c.get_counts())\n",
    "\n",
    "plot_histogram(result_real[0].data.c.get_counts())"
   ]
  },
  {
   "cell_type": "code",
   "execution_count": null,
   "metadata": {},
   "outputs": [],
   "source": [
    "# Bobのビットの結果のみ抜き出します\n",
    "bobs_qubit = 2\n",
    "bobs_counts = marginal_counts(result_real[0].data.c.get_counts(), [bobs_qubit])\n",
    "plot_histogram(bobs_counts)"
   ]
  }
 ],
 "metadata": {
  "kernelspec": {
   "display_name": "Python 3 (ipykernel)",
   "language": "python",
   "name": "python3"
  },
  "language_info": {
   "codemirror_mode": {
    "name": "ipython",
    "version": 3
   },
   "file_extension": ".py",
   "mimetype": "text/x-python",
   "name": "python",
   "nbconvert_exporter": "python",
   "pygments_lexer": "ipython3",
   "version": "3.11.8"
  },
  "widgets": {
   "application/vnd.jupyter.widget-state+json": {
    "state": {},
    "version_major": 2,
    "version_minor": 0
   }
  }
 },
 "nbformat": 4,
 "nbformat_minor": 4
}
