{
 "cells": [
  {
   "cell_type": "markdown",
   "metadata": {},
   "source": [
    "# Getting started with Qiskit\n",
    "\n",
    "Yuri Kobayashi, IBM Quantum (Jan 18, 2024)"
   ]
  },
  {
   "cell_type": "markdown",
   "metadata": {},
   "source": [
    "### **Qiskit**\n",
    "\n",
    "- **Terra** -- Solid foundation for running quantum circuits on device and simulator backends\n",
    "- **Aer** -- Simulators + noise models\n",
    "- **Qiskit Runtime** -- A programming model and execution framework to effectively execute workloads.\n",
    "- **Qiskit Runtime Primitives** -- A simple pre-made program — core functions that a programmer can use to take care of basic tasks. Currently, Qiskit provides the following two primitives.\n",
    "  - **Sampler** is useful for those who want to examine the counts from each measurement with greater context. Sampler allows you to obtain error-mitigated readout of quasiprobabilities.\n",
    "  - **Estimator** makes it possible to efficiently calculate and interpret expectation values of the quantum operators that are required for many algorithms.\n"
   ]
  },
  {
   "cell_type": "code",
   "execution_count": null,
   "metadata": {
    "scrolled": true
   },
   "outputs": [],
   "source": [
    "# Let's import necessary Qiskit libraries first\n",
    "from qiskit import QuantumCircuit\n",
    "from qiskit import Aer\n",
    "\n",
    "# For plotting your data\n",
    "import matplotlib.pyplot as plt"
   ]
  },
  {
   "cell_type": "markdown",
   "metadata": {},
   "source": [
    "## One qubit circuit\n",
    "Let's begin by creating a simple quantum circuit. To run your code in this notebook, select each cell and press **Shift ＋ Enter**."
   ]
  },
  {
   "cell_type": "code",
   "execution_count": null,
   "metadata": {
    "scrolled": true
   },
   "outputs": [],
   "source": [
    "# Create a circuit with one qubit\n",
    "qc = QuantumCircuit(1)\n",
    "\n",
    "# Draw the circuit\n",
    "qc.draw(output=\"mpl\")"
   ]
  },
  {
   "cell_type": "markdown",
   "metadata": {},
   "source": [
    "## An Initial Qubit State"
   ]
  },
  {
   "cell_type": "markdown",
   "metadata": {},
   "source": [
    "A single qubit can be written as a quantum state.\n",
    "$$|ψ\\rangle = α|0\\rangle+β|1\\rangle$$\n",
    "The coefficients **α** and **β** are usually called complex amplitudes where **α**, **β** **∈** $\\mathbb{C}$. <br>\n",
    " $|α|^2$ is the probability of measuring the state $|0\\rangle$ and $|β|^2$ is the probability of measuring the state $|1\\rangle$. (i.e. $|α|^2 + |β|^2=1$)"
   ]
  },
  {
   "cell_type": "markdown",
   "metadata": {},
   "source": [
    "Let us visualize the qubit on a bloch sphere. We wil use a **statevector simulator** to return a statevector of the qubit we want to visualize. "
   ]
  },
  {
   "cell_type": "code",
   "execution_count": null,
   "metadata": {},
   "outputs": [],
   "source": [
    "# Statecevoctor simulator\n",
    "backend = Aer.get_backend('statevector_simulator')\n",
    "result = backend.run(qc).result().get_statevector(qc, decimals=3)\n",
    "print(result)\n",
    "\n",
    "# Visualize the state on a bloch sphere\n",
    "from qiskit.visualization import plot_bloch_multivector\n",
    "plot_bloch_multivector(result, figsize=(3,3))"
   ]
  },
  {
   "cell_type": "markdown",
   "metadata": {},
   "source": [
    "## Quantum Logic Gates"
   ]
  },
  {
   "cell_type": "markdown",
   "metadata": {},
   "source": [
    "Now, let us take a look at different quantum logic gates, starting with some of the most common ones. "
   ]
  },
  {
   "cell_type": "markdown",
   "metadata": {},
   "source": [
    "### X Gate"
   ]
  },
  {
   "cell_type": "code",
   "execution_count": null,
   "metadata": {
    "scrolled": true
   },
   "outputs": [],
   "source": [
    "qc = QuantumCircuit(1)    # Prepare a circuit with one qubit\n",
    "\n",
    "# Apply an X gate on the 0th qubit\n",
    "qc.x(0)\n",
    "\n",
    "# Draw the circuit\n",
    "qc.draw(output=\"mpl\")"
   ]
  },
  {
   "cell_type": "markdown",
   "metadata": {},
   "source": [
    "Applying an X gate transforms the initial qubit state as follows:\n",
    "\n",
    "$X|0\\rangle=  \\begin{pmatrix}\n",
    "0 & 1 \\\\\\\n",
    "1 & 0\n",
    "\\end{pmatrix} \n",
    "\\begin{pmatrix}\n",
    "1 \\\\\\\n",
    "0\n",
    "\\end{pmatrix} \n",
    " =\\begin{pmatrix}\n",
    "0 \\\\\\\n",
    "1\n",
    "\\end{pmatrix} = |1\\rangle$ \n",
    "\n",
    "Let's visualize our new transformed state using a statevector simulator again. "
   ]
  },
  {
   "cell_type": "code",
   "execution_count": null,
   "metadata": {
    "scrolled": true
   },
   "outputs": [],
   "source": [
    "# Run a statevector simulator and print results\n",
    "backend = Aer.get_backend('statevector_simulator')\n",
    "result = backend.run(qc).result().get_statevector(qc, decimals=3)\n",
    "print(result)\n",
    "\n",
    "# Visualize the state on a bloch sphere\n",
    "from qiskit.visualization import plot_bloch_multivector\n",
    "plot_bloch_multivector(result, figsize=(3,3))"
   ]
  },
  {
   "cell_type": "markdown",
   "metadata": {},
   "source": [
    "### H Gate\n",
    "Let's create a $|+\\rangle$ state"
   ]
  },
  {
   "cell_type": "code",
   "execution_count": null,
   "metadata": {
    "scrolled": true
   },
   "outputs": [],
   "source": [
    "qc = QuantumCircuit(1)    # Prepare a cirtcuit with one qubit\n",
    "\n",
    "# Apply an Hadamard gate on the qubit\n",
    "qc.h(0)\n",
    "\n",
    "# Draw the circuit\n",
    "qc.draw(output=\"mpl\")"
   ]
  },
  {
   "cell_type": "markdown",
   "metadata": {},
   "source": [
    "Applying an H gate transforms the initial qubit state as follows:\n",
    "\n",
    "$H|0\\rangle= \\frac{1}{\\sqrt{2}} \\begin{pmatrix}\n",
    "1 & 1 \\\\\\\n",
    "1 & -1\n",
    "\\end{pmatrix} \n",
    "\\begin{pmatrix}\n",
    "1 \\\\\\\n",
    "0\n",
    "\\end{pmatrix} \n",
    " =\\frac{1}{\\sqrt{2}}\\begin{pmatrix}\n",
    "1 \\\\\\\n",
    "1\n",
    "\\end{pmatrix} \n",
    "=\\begin{pmatrix}\n",
    "0.707 \\\\\\\n",
    "0.707\n",
    "\\end{pmatrix} \n",
    "=\\frac{1}{\\sqrt{2}}（|0\\rangle+|1\\rangle)$ \n",
    "\n",
    "\n",
    "\n",
    "\n",
    "By applyting the $H$ gate on $|0\\rangle$, we can create a superposition of $|0\\rangle$ and $|1\\rangle$ where measurement would give you each state with equal probabilities."
   ]
  },
  {
   "cell_type": "code",
   "execution_count": null,
   "metadata": {
    "scrolled": true
   },
   "outputs": [],
   "source": [
    "# Run a statevector simulator to get the results\n",
    "backend = Aer.get_backend('statevector_simulator')\n",
    "result = backend.run(qc).result().get_statevector(qc, decimals=3)\n",
    "print(result)\n",
    "\n",
    "# Visualize the state on a bloch sphere\n",
    "plot_bloch_multivector(result, figsize=(3,3))"
   ]
  },
  {
   "cell_type": "markdown",
   "metadata": {},
   "source": [
    "### Create a $|-\\rangle$ state"
   ]
  },
  {
   "cell_type": "code",
   "execution_count": null,
   "metadata": {
    "scrolled": true
   },
   "outputs": [],
   "source": [
    "qc = QuantumCircuit(1)     # Prepare a cirtcuit with one qubit\n",
    "\n",
    "# Apply an X gate on the qubit\n",
    "qc.x(0)\n",
    "\n",
    "# Then apply a Hadamard (H) gate on the qubit\n",
    "qc.h(0)\n",
    "\n",
    "# Draw the circuit\n",
    "qc.draw(output=\"mpl\")"
   ]
  },
  {
   "cell_type": "code",
   "execution_count": null,
   "metadata": {
    "scrolled": true
   },
   "outputs": [],
   "source": [
    "# Run a statevector simulator to get the results\n",
    "backend = Aer.get_backend('statevector_simulator')\n",
    "result = backend.run(qc).result().get_statevector(qc, decimals=3)\n",
    "print(result)\n",
    "\n",
    "# Visualize the state on a bloch sphere\n",
    "plot_bloch_multivector(result, figsize=(3,3))"
   ]
  },
  {
   "cell_type": "markdown",
   "metadata": {},
   "source": [
    "$H|1\\rangle= \\frac{1}{\\sqrt{2}} \\begin{pmatrix}\n",
    "1 & 1 \\\\\\\n",
    "1 & -1\n",
    "\\end{pmatrix} \n",
    "\\begin{pmatrix}\n",
    "0 \\\\\\\n",
    "1\n",
    "\\end{pmatrix} \n",
    " =\\frac{1}{\\sqrt{2}}\\begin{pmatrix}\n",
    "1 \\\\\\\n",
    "-1\n",
    "\\end{pmatrix} \n",
    "=\\begin{pmatrix}\n",
    "0.707 \\\\\\\n",
    "-0.707\n",
    "\\end{pmatrix} \n",
    "=\\frac{1}{\\sqrt{2}}（|0\\rangle-|1\\rangle)$\n",
    "\n",
    "\n",
    "By applying an $H$ gate on $|1\\rangle$, we created a superposition of $|0\\rangle$ and $|1\\rangle$ with a minus sign on the $|1\\rangle$ state."
   ]
  },
  {
   "cell_type": "markdown",
   "metadata": {},
   "source": [
    "You can explore other gates here: https://docs.quantum.ibm.com/build/circuit-construction"
   ]
  },
  {
   "cell_type": "markdown",
   "metadata": {},
   "source": [
    "# Two qubit circuit"
   ]
  },
  {
   "cell_type": "code",
   "execution_count": null,
   "metadata": {
    "scrolled": true
   },
   "outputs": [],
   "source": [
    "# Create a circuit with two qubits\n",
    "qc = QuantumCircuit(2)\n",
    "\n",
    "# Apply a Hadamard (H) gate on the first qubit\n",
    "qc.h(0)\n",
    "\n",
    "# Then apply a Hadamard (H) gate on the second qubit。\n",
    "qc.h(1)\n",
    "\n",
    "# Draw the circuit\n",
    "qc.draw(output=\"mpl\")"
   ]
  },
  {
   "cell_type": "code",
   "execution_count": null,
   "metadata": {
    "scrolled": true
   },
   "outputs": [],
   "source": [
    "# Run a statevector simulator to get the results\n",
    "backend = Aer.get_backend('statevector_simulator')\n",
    "result = backend.run(qc).result().get_statevector(qc, decimals=3)\n",
    "print(result)"
   ]
  },
  {
   "cell_type": "markdown",
   "metadata": {},
   "source": [
    "A physical system with multiple qubit states can be expressed by their tensor products.\n",
    "\n",
    "$|q0\\rangle \\otimes|q1\\rangle = (a|0\\rangle+b|1\\rangle) \\otimes (c|0\\rangle+d|1\\rangle) $\n",
    "\n",
    "$= ac|0\\rangle|0\\rangle+ad|0\\rangle|1\\rangle+bc|1\\rangle|0\\rangle+bd|1\\rangle|1\\rangle$\n",
    "\n",
    "$= ac|00\\rangle+ad|01\\rangle+bc|10\\rangle+bd|11\\rangle$\n",
    "\n",
    "($|ac|^2+ |ad|^2+ |bc|^2+ |bd|^2=1$ )\n",
    "\n",
    "\n",
    "Both qubits are initially in the $|0\\rangle|0\\rangle=|00\\rangle$ state, therefore, by applying an $H$ on each of these qubits you can create a superposition state as follows:\n",
    "\n",
    "$H|0\\rangle \\otimes H|0\\rangle=\\frac{1}{\\sqrt{2}}(|0\\rangle+|1\\rangle) \\otimes \\frac{1}{\\sqrt{2}}(|0\\rangle+|1\\rangle) = \\frac{1}{2}(|00\\rangle+|01\\rangle+|10\\rangle+|11\\rangle)$\n",
    "\n",
    "$$ \n",
    "=\\frac{1}{2}\\left( \\begin{bmatrix} 1 \\\\ 1 \\end{bmatrix} \\otimes \\begin{bmatrix} 1 \\\\ 1 \\end{bmatrix}\\right) = \\frac{1}{2}\\begin{bmatrix} 1 \\\\ 1 \\\\ 1 \\\\ 1 \\end{bmatrix}=\\frac{1}{2}\\left(\\begin{bmatrix} 1 \\\\ 0 \\\\ 0 \\\\ 0 \\end{bmatrix}+\\begin{bmatrix} 0 \\\\ 1 \\\\ 0 \\\\ 0 \\end{bmatrix}+\\begin{bmatrix} 0 \\\\ 0 \\\\ 1 \\\\ 0 \\end{bmatrix}+\\begin{bmatrix} 0 \\\\ 0 \\\\ 0 \\\\ 1 \\end{bmatrix}\\right)\n",
    "$$\n"
   ]
  },
  {
   "cell_type": "code",
   "execution_count": null,
   "metadata": {
    "scrolled": true
   },
   "outputs": [],
   "source": [
    "# Visualize the state on a bloch sphere\n",
    "plot_bloch_multivector(result, figsize=(3,3))"
   ]
  },
  {
   "cell_type": "markdown",
   "metadata": {},
   "source": [
    "# QASM Simulator"
   ]
  },
  {
   "cell_type": "markdown",
   "metadata": {},
   "source": [
    "We will need measurements, as the QASM simulator simulates an ideal (with no noise) quantum hardware by default. Note: A QASM simulator can also apply a noise model based on real backend. "
   ]
  },
  {
   "cell_type": "code",
   "execution_count": null,
   "metadata": {
    "scrolled": true
   },
   "outputs": [],
   "source": [
    "# Create a circuit with two quantum registers and two classical registers\n",
    "qc = QuantumCircuit(2,2)\n",
    "\n",
    "# Apply the quantum logic gates\n",
    "qc.h(0)\n",
    "qc.h(1)\n",
    "\n",
    "# Add measurements\n",
    "qc.measure(0,0)    # Measure q0 and store the results in the classical register c0\n",
    "qc.measure(1,1)    # Measure q1 and store the results in the classical register c1\n",
    "\n",
    "# Draw the circuit\n",
    "qc.draw(output=\"mpl\")"
   ]
  },
  {
   "cell_type": "markdown",
   "metadata": {},
   "source": [
    "With the measurements, we are now ready to run our circuit on a QASM simulator. In this example, we will apply shots=1024, which means we will measure 1024 times. Then we will plot those counts in a histograpm."
   ]
  },
  {
   "cell_type": "code",
   "execution_count": null,
   "metadata": {
    "scrolled": true
   },
   "outputs": [],
   "source": [
    "# Run the circuit on a QASM simulator to get the results\n",
    "backend = Aer.get_backend('qasm_simulator')\n",
    "job = backend.run(qc, shots=1024)\n",
    "result = job.result()\n",
    "\n",
    "#  Print the results\n",
    "counts = result.get_counts(qc)\n",
    "print(counts)\n",
    "\n",
    "## Plot the counts in a histogram\n",
    "from qiskit.tools.visualization import plot_histogram\n",
    "plot_histogram(counts, figsize=(4,3) )"
   ]
  },
  {
   "cell_type": "markdown",
   "metadata": {},
   "source": [
    "As expected, the states $|00\\rangle$, $|01\\rangle$, $|10\\rangle$, $|11\\rangle$ were measured almost 25% each."
   ]
  },
  {
   "cell_type": "markdown",
   "metadata": {},
   "source": [
    "# CNOT Gate"
   ]
  },
  {
   "attachments": {
    "a6628af7-00df-4f23-86f3-c43ed202fbc8.png": {
     "image/png": "[encoded data removed]"
    },
    "image.png": {
     "image/png": "[encoded data removed]"
    }
   },
   "cell_type": "markdown",
   "metadata": {},
   "source": [
    "A $CNOT$ Gate is a two-qubit gate and flips the target qubit only when the control qubit is $|1\\rangle$.  \n",
    "![image.png](attachment:a6628af7-00df-4f23-86f3-c43ed202fbc8.png)\n",
    "\n",
    "Let us first simulate the statevector of this two-qubit gate when q0 and q1 are both $|0\\rangle$.  "
   ]
  },
  {
   "cell_type": "code",
   "execution_count": null,
   "metadata": {},
   "outputs": [],
   "source": [
    "# Create a circuit with two quantum registers and two classical registers\n",
    "qc = QuantumCircuit(2,2)\n",
    "\n",
    "# Apply the CNOT (cx) gate to a $|00\\rangle$ state.\n",
    "qc.cx(0,1)   # Here the control is set to q0 and the target is set to q1.\n",
    "\n",
    "# Draw the circuit\n",
    "qc.draw(output=\"mpl\")"
   ]
  },
  {
   "cell_type": "code",
   "execution_count": null,
   "metadata": {},
   "outputs": [],
   "source": [
    "# Run a statevector simulator to get the results\n",
    "backend = Aer.get_backend('statevector_simulator')\n",
    "result = backend.run(qc).result().get_statevector(qc, decimals=3)\n",
    "print(result)"
   ]
  },
  {
   "cell_type": "markdown",
   "metadata": {},
   "source": [
    "As exoected, applying a $CX$ gate on $|00\\rangle$ did not change the state."
   ]
  },
  {
   "cell_type": "markdown",
   "metadata": {},
   "source": [
    "### Qiskit bit ordering\n",
    "\n",
    "Qiskit uses **Little Endian** notations for qubits and bits ordering, meaning **the least significant bit (qubit 0) is the rightmost bit** in the bitstrings. Example: $|01\\rangle$ means q0 is |1\\rangle$ and q1 is |0\\rangle$. Be careful because most of the litterature in quantum computing use the Big Endian notation.\n",
    "\n",
    "\n",
    "$$|q_nq_{n-1}...q_1q_0\\rangle \\Rightarrow b_nb_{n-1}...b_1b_0 $$\n",
    "\n",
    "Another thing to notice is that when representing a quantum circuit, in both cases $|q_0\\rangle$ is written at the first idle at the top of the circuit.\n"
   ]
  },
  {
   "cell_type": "markdown",
   "metadata": {},
   "source": [
    "Let's get back to our CNOT operation. This time we will apply a $CX$ gate on $|01\\rangle$ and see what happens.\n"
   ]
  },
  {
   "cell_type": "code",
   "execution_count": null,
   "metadata": {},
   "outputs": [],
   "source": [
    "qc = QuantumCircuit(2,2)\n",
    "\n",
    "# q0=1, q1=0\n",
    "qc.x(0)    # Apply a $X$ gate to initialize  q0 to 1\n",
    "qc.cx(0,1)   # Set the control bit to q0 and the target bit to q1.\n",
    "\n",
    "# Draw the circuit\n",
    "qc.draw(output=\"mpl\")"
   ]
  },
  {
   "cell_type": "code",
   "execution_count": null,
   "metadata": {},
   "outputs": [],
   "source": [
    "# Run a statevector simulator to get the results\n",
    "backend = Aer.get_backend('statevector_simulator')\n",
    "result = backend.run(qc).result().get_statevector(qc, decimals=3)\n",
    "print(result)"
   ]
  },
  {
   "cell_type": "markdown",
   "metadata": {},
   "source": [
    "By applying a $CX$ gate, the $|01\\rangle$ state has now become $|11\\rangle$.\n",
    "\n",
    "Let us verify these results by runing the circuit on a QASM simulator."
   ]
  },
  {
   "cell_type": "code",
   "execution_count": null,
   "metadata": {},
   "outputs": [],
   "source": [
    "# Add measurements\n",
    "qc.measure(0,0)\n",
    "qc.measure(1,1)\n",
    "\n",
    "# Draw the circuit\n",
    "qc.draw(output=\"mpl\")"
   ]
  },
  {
   "cell_type": "code",
   "execution_count": null,
   "metadata": {},
   "outputs": [],
   "source": [
    "# Run the circuit on a QASM simulator to get the results\n",
    "backend = Aer.get_backend('qasm_simulator')\n",
    "job = backend.run(qc, shots=1024)\n",
    "result = job.result()\n",
    "\n",
    "#  Print the results\n",
    "counts = result.get_counts(qc)\n",
    "print(counts)\n",
    "\n",
    "## Plot the counts in a histogram\n",
    "plot_histogram(counts, figsize=(4,3) )"
   ]
  },
  {
   "cell_type": "markdown",
   "metadata": {},
   "source": [
    "The results should show you that $|11\\rangle$ has been measured with 100% probability."
   ]
  },
  {
   "cell_type": "markdown",
   "metadata": {},
   "source": [
    "\n",
    "# Entanglement and running your circuit on a real quantum device.\n",
    "Let us first create an engangled state and then measure this on a real quantum computer.\n",
    "\n",
    "Let's generate a quantum entangled state (entanglement state), which is also an important state in quantum computation.\n",
    "Entanglement is a state in which two qubits has strong corelations.\n",
    "It is used in quantum teleportation.\n",
    "\n",
    "One example of a two-qubit entangled state may look like:\n",
    "$$\\frac{1}{\\sqrt{2}}|00\\rangle + \\frac{1}{\\sqrt{2}}|11\\rangle$$\n",
    "\n",
    "This is when two qubits are in a superposition state; when one qubit is in $|0\\rangle$ then the other qubit is in the $|0\\rangle$ state, and when one qubit is in the $|1\\rangle$ state the other qubit is in the state $|1\\rangle$. This means, when one qubit measures a certain state, the other qubit will have corelated outcome. Therefore, as a two-qubit system, there will be an equal probability of measuring $|00\\rangle$ and $|11\\rangle$. <br>\n",
    "\n",
    "To create this entangled state, we first need to create a superposition of one of the qubits as shown below:\n",
    "$$ |00\\rangle \\rightarrow  \\frac{1}{\\sqrt{2}}|00\\rangle  + \\frac{1}{\\sqrt{2}}|01\\rangle  $$\n",
    "\n",
    "Then apply a CNOT (CX) gate to entangle the two qubits. Here we are setting q0 as the control and q1 as the target. This is why you see a 'bitflip' when the qubit on the LSB is 1.\n",
    "$$ CX(\\frac{1}{\\sqrt{2}}|00\\rangle  + \\frac{1}{\\sqrt{2}}|01\\rangle) \\rightarrow \\frac{1}{\\sqrt{2}}|00\\rangle  + \\frac{1}{\\sqrt{2}}|11\\rangle $$\n",
    "\n",
    "Now let's build a circuit to create a two-qubit entanglement.<br>\n"
   ]
  },
  {
   "cell_type": "code",
   "execution_count": null,
   "metadata": {},
   "outputs": [],
   "source": [
    "# Create a circuit with two quantum registers and two classical registers\n",
    "qc = QuantumCircuit(2,2)\n",
    "\n",
    "# Create entanglement by applying a hadamard and then a CNOT gate\n",
    "qc.h(0)\n",
    "qc.cx(0, 1)\n",
    "\n",
    "# Measure the circuit\n",
    "qc.measure(0, 0)\n",
    "qc.measure(1, 1)\n",
    "\n",
    "# Draw the circuit\n",
    "qc.draw(output=\"mpl\")"
   ]
  },
  {
   "cell_type": "code",
   "execution_count": null,
   "metadata": {},
   "outputs": [],
   "source": [
    "# Run the circuit on a QASM simulator to get the results\n",
    "backend = Aer.get_backend('qasm_simulator')\n",
    "job = backend.run(qc, shots=1024)\n",
    "result = job.result()\n",
    "\n",
    "#  Print the results\n",
    "counts = result.get_counts(qc)\n",
    "print(counts)\n",
    "\n",
    "# Plot the counts as a histogram\n",
    "plot_histogram(counts, figsize=(4,3))"
   ]
  },
  {
   "cell_type": "markdown",
   "metadata": {},
   "source": [
    "Let us now run this same circuit on a real quantum computer.\n",
    "If you do not have IBM Provider, you will need to install this first. When running your Qiskit code in IBM Quantum Lab, you do not need this step. For more information about IBM Provider:[Qiskit IBM Quantum Provider documentation](https://qiskit.org/ecosystem/ibm-provider/index.html)"
   ]
  },
  {
   "cell_type": "code",
   "execution_count": null,
   "metadata": {},
   "outputs": [],
   "source": [
    "# Install IBM Provider\n",
    "#!pip install qiskit-ibm-provider"
   ]
  },
  {
   "cell_type": "markdown",
   "metadata": {},
   "source": [
    "Now, let us run this circuit on a real quantum device. \n"
   ]
  },
  {
   "cell_type": "code",
   "execution_count": null,
   "metadata": {},
   "outputs": [],
   "source": [
    "from qiskit_ibm_provider import IBMProvider\n",
    "\n",
    "# If this is your first time running your circuit on a real device, make sure you copy your API Token from [IBM Quantum Platform](https://quantum.ibm.com/) \n",
    "IBMProvider.save_account(token='<your_token>', overwrite=True)\n",
    "\n",
    "# Update the instance to your own provide instance.\n",
    "provider = IBMProvider(instance='ibm-q-utokyo/riken/internal')"
   ]
  },
  {
   "cell_type": "markdown",
   "metadata": {},
   "source": [
    "### Finding the least busy device"
   ]
  },
  {
   "cell_type": "code",
   "execution_count": null,
   "metadata": {},
   "outputs": [],
   "source": [
    "#You can also identify the least busy device\n",
    "from qiskit_ibm_provider import least_busy\n",
    "\n",
    "small_devices = provider.backends(simulator=False, operational=True, min_num_qubits=2)\n",
    "real_backend = least_busy(small_devices)\n",
    "print(real_backend.name)"
   ]
  },
  {
   "cell_type": "code",
   "execution_count": null,
   "metadata": {
    "scrolled": true
   },
   "outputs": [],
   "source": [
    "# Transpile the circuit into basis gates executable on the hardware\n",
    "from qiskit import transpile\n",
    "qc_compiled = transpile(qc, real_backend)\n",
    "# Run the circuit on a real backend specified above\n",
    "job = real_backend.run(qc_compiled, shots=1024)"
   ]
  },
  {
   "cell_type": "code",
   "execution_count": null,
   "metadata": {},
   "outputs": [],
   "source": [
    "job_id = job.job_id()\n",
    "print(job_id)"
   ]
  },
  {
   "cell_type": "code",
   "execution_count": null,
   "metadata": {},
   "outputs": [],
   "source": [
    "# Check the job status\n",
    "retrieve_job = provider.backend.retrieve_job(job_id)\n",
    "retrieve_job.status()"
   ]
  },
  {
   "cell_type": "markdown",
   "metadata": {},
   "source": [
    "You can also check the job status from your IBM Quantum Dashboard：https://quantum.ibm.com/jobs"
   ]
  },
  {
   "cell_type": "code",
   "execution_count": null,
   "metadata": {},
   "outputs": [],
   "source": [
    "# # If the Notebook session got disconnected you can also check your job statuse by running the followuing code\n",
    "# from qiskit_ibm_provider import IBMProvider\n",
    "# provider = IBMProvider()\n",
    "# real_backend = provider.get_backend('ibm_xxxx') # Input the device you are using\n",
    "# retrieve_job = provider.backend.retrieve_job('<your-job-id>') # Input your job-id between the quotations\n",
    "# retrieve_job.status()"
   ]
  },
  {
   "cell_type": "code",
   "execution_count": null,
   "metadata": {
    "scrolled": true
   },
   "outputs": [],
   "source": [
    "from qiskit.tools.visualization import plot_distribution\n",
    "\n",
    "real_result= retrieve_job.result()\n",
    "print(real_result.get_counts())\n",
    "plot_distribution(real_result.get_counts(), figsize=(4,3))"
   ]
  },
  {
   "cell_type": "code",
   "execution_count": null,
   "metadata": {},
   "outputs": [],
   "source": [
    "# You may also choose an available backend \n",
    "real_backend = provider.get_backend('ibm_cairo')   # When choosing 'ibm_cairo' as your backend"
   ]
  },
  {
   "cell_type": "markdown",
   "metadata": {},
   "source": [
    "# Qiskit Runtime Primitives\n",
    "Qiskit Runtime is a programming model and containerized execution environment for deploying quantum programs.\n",
    "Qiskit Runtime Primitive has built-in circuit optimization and error mitigation features by default.\n"
   ]
  },
  {
   "cell_type": "markdown",
   "metadata": {},
   "source": [
    "### Sampler\n",
    "\n",
    "With Sampler, we can obtain quasi-probabilities from our results."
   ]
  },
  {
   "cell_type": "code",
   "execution_count": null,
   "metadata": {},
   "outputs": [],
   "source": [
    "from qiskit.circuit import QuantumCircuit\n",
    "from qiskit.primitives import Estimator, Sampler\n",
    "from qiskit.tools.visualization import plot_distribution\n",
    "\n",
    "# Create a bell state\n",
    "qc = QuantumCircuit(2)\n",
    "qc.h(0)\n",
    "qc.cx(0, 1)\n",
    "qc.measure_all()\n",
    "\n",
    "# Run on a simulator and obtain results\n",
    "sampler = Sampler()\n",
    "job = sampler.run(qc)\n",
    "prob_distribution = job.result().quasi_dists[0].binary_probabilities()\n",
    "\n",
    "# Plot in a histogram\n",
    "print(prob_distribution)\n",
    "plot_distribution(prob_distribution, figsize=(4,3))"
   ]
  },
  {
   "cell_type": "markdown",
   "metadata": {},
   "source": [
    "When running on a real machine, install Qiskit Runtime if you have not already done so; if you are running on IBM Quantum Lab, you do not need to install it; see also this guide for more information about IBM Provider:https://qiskit.org/ecosystem/ibm-runtime/locale/ja_JP/getting_started.html"
   ]
  },
  {
   "cell_type": "code",
   "execution_count": null,
   "metadata": {},
   "outputs": [],
   "source": [
    "# Install Qiskit Runtime if not already\n",
    "#!pip install qiskit-ibm-runtime"
   ]
  },
  {
   "cell_type": "code",
   "execution_count": null,
   "metadata": {},
   "outputs": [],
   "source": [
    "from qiskit_ibm_runtime import QiskitRuntimeService, Session, Sampler\n",
    "\n",
    "# Run only if it is your first time using Runtime\n",
    "# QiskitRuntimeService.save_account(channel='ibm_quantum', token=<IBM Quantum API key>)\n",
    "\n",
    "service = QiskitRuntimeService(\n",
    "    channel='ibm_quantum',\n",
    "    instance='ibm-q-utokyo/riken/internal', #Replace with your hub instance information\n",
    "    #instance='ibm-q-internal/deployed/default',\n",
    ")"
   ]
  },
  {
   "cell_type": "code",
   "execution_count": null,
   "metadata": {},
   "outputs": [],
   "source": [
    "# Find the least busy system you have acccess to\n",
    "from qiskit_ibm_provider import least_busy\n",
    "\n",
    "small_devices = service.backends(simulator=False, operational=True, min_num_qubits=2)\n",
    "real_backend = least_busy(small_devices)\n",
    "print(real_backend.name)"
   ]
  },
  {
   "cell_type": "code",
   "execution_count": null,
   "metadata": {},
   "outputs": [],
   "source": [
    "# # For specifying a device\n",
    "# real_backend = service.get_backend('ibm_<devicename>')"
   ]
  },
  {
   "cell_type": "code",
   "execution_count": null,
   "metadata": {},
   "outputs": [],
   "source": [
    "with Session(service, backend=real_backend) as session:\n",
    "    sampler = Sampler(session=session)\n",
    "    job_real = sampler.run(qc)\n",
    "    job_id = job_real.job_id()\n",
    "    print(job_id)"
   ]
  },
  {
   "cell_type": "code",
   "execution_count": null,
   "metadata": {},
   "outputs": [],
   "source": [
    "retrieve_job = service.job(job_id)\n",
    "retrieve_job.status()"
   ]
  },
  {
   "cell_type": "code",
   "execution_count": null,
   "metadata": {},
   "outputs": [],
   "source": [
    "# # In case your notebook session got disconnected, you can retrieve your job status by speficying the job_id.\n",
    "\n",
    "from qiskit_ibm_runtime import QiskitRuntimeService\n",
    "service = QiskitRuntimeService()\n",
    "retrieve_job = service.job('cpmb8ntsp83g008y4r80') #Insert your job_id in the quotations\n",
    "retrieve_job.status()"
   ]
  },
  {
   "cell_type": "code",
   "execution_count": null,
   "metadata": {},
   "outputs": [],
   "source": [
    "prob_distribution_real = retrieve_job.result().quasi_dists[0].binary_probabilities()\n",
    "\n",
    "plot_distribution(\n",
    "    data=[prob_distribution, prob_distribution_real], \n",
    "    legend=['Simulator', 'Real Device'], \n",
    "    color=['lightblue', 'black'], \n",
    "    bar_labels = False,\n",
    "    figsize=(4,3)\n",
    ")"
   ]
  },
  {
   "cell_type": "markdown",
   "metadata": {},
   "source": [
    "### Estimator\n",
    "With **Estimator**, we can find the expectation value of observables. \n",
    "We do not use a measure in our circuit but instead, we need to prepare an observable operator which we will call `obs` in this example. This is because the expectation value ⟨𝑂⟩=⟨𝜓|𝑂|𝜓⟩ is computed exactly by performing all the linear algebra calculations implemented in the method [Statevector.expectation_value](https://github.com/Qiskit/qiskit/blob/main/qiskit/quantum_info/states/statevector.py#). In our circuit below `qc` is the QuantumCircuit preparing your state 𝜓 and `obs` is your operator 𝑂."
   ]
  },
  {
   "cell_type": "code",
   "execution_count": null,
   "metadata": {},
   "outputs": [],
   "source": [
    "from qiskit.circuit import QuantumCircuit\n",
    "from qiskit.primitives import Estimator, Sampler\n",
    "from qiskit.quantum_info import SparsePauliOp\n",
    "from qiskit.tools.visualization import plot_distribution\n",
    "\n",
    "# Create a bell state\n",
    "qc = QuantumCircuit(1)\n",
    "qc.h(0)\n",
    "\n",
    "# Prepare an observable\n",
    "obs = list(SparsePauliOp(['Z', 'X']))\n",
    "\n",
    "# Run the circuit on a simulator and calcualate the expectation value of the observable.\n",
    "estimator = Estimator()\n",
    "job = estimator.run([qc]*len(obs), observables=obs)\n",
    "print('Z:', job.result().values[0], 'X:', job.result().values[1])"
   ]
  },
  {
   "attachments": {},
   "cell_type": "markdown",
   "metadata": {},
   "source": [
    "## Challenge Exercise - Now it's your turn to play! \n",
    "<div class=\"alert alert-block alert-info\">\n",
    "<b>Challenge 1:</b>\n",
    "Here's the challenge for you: In the following cells, create a GHZ (Greenberger, Horne and Zeilinger) circuit, to produce a three maximally entangled quantum states and get the results of the measures. \n",
    "</div>\n"
   ]
  },
  {
   "attachments": {
    "9ae5a7bb-76b7-4a1a-9718-ef33d4f057cc.png": {
     "image/png": "[encoded data removed]"
    }
   },
   "cell_type": "markdown",
   "metadata": {},
   "source": [
    "![image.png](attachment:9ae5a7bb-76b7-4a1a-9718-ef33d4f057cc.png)"
   ]
  },
  {
   "cell_type": "markdown",
   "metadata": {},
   "source": [
    "<div class=\"alert alert-success\">\n",
    "<b>Step 1 :</b> Create the quantum circuit.\n",
    "</div>"
   ]
  },
  {
   "cell_type": "code",
   "execution_count": null,
   "metadata": {},
   "outputs": [],
   "source": [
    "from qiskit import QuantumCircuit\n",
    "\n",
    "##### Insert code here #####"
   ]
  },
  {
   "cell_type": "markdown",
   "metadata": {},
   "source": [
    "<div class=\"alert alert-success\">\n",
    "<b>Step 2 :</b> Add the gates to the qubits.\n",
    "</div>"
   ]
  },
  {
   "cell_type": "code",
   "execution_count": null,
   "metadata": {},
   "outputs": [],
   "source": [
    "##### Insert code here #####\n"
   ]
  },
  {
   "cell_type": "markdown",
   "metadata": {},
   "source": [
    "<div class=\"alert alert-success\">\n",
    "<b>Step 3 :</b> Add the measures to the qubits.\n",
    "</div>"
   ]
  },
  {
   "cell_type": "code",
   "execution_count": null,
   "metadata": {},
   "outputs": [],
   "source": [
    "##### Insert code here #####\n"
   ]
  },
  {
   "cell_type": "markdown",
   "metadata": {},
   "source": [
    "<div class=\"alert alert-success\">\n",
    "<b>Step 4 :</b> Draw the circuit to make sure you created the right one.\n",
    "</div>"
   ]
  },
  {
   "cell_type": "code",
   "execution_count": null,
   "metadata": {},
   "outputs": [],
   "source": [
    "##### Insert code here #####\n"
   ]
  },
  {
   "cell_type": "markdown",
   "metadata": {},
   "source": [
    "<div class=\"alert alert-success\">\n",
    "<b>Step 5 :</b> Initialize the backend ibm_perth.\n",
    "</div>\n",
    "\n",
    "\n",
    "Remember this is how you load the provider (we already did it earlier so no need to do it once again) :\n",
    "\n",
    "```\n",
    "from qiskit_ibm_provider import IBMProvider\n",
    "provider = IBMProvider()\n",
    "```"
   ]
  },
  {
   "cell_type": "code",
   "execution_count": null,
   "metadata": {},
   "outputs": [],
   "source": [
    "##### Insert code here #####\n"
   ]
  },
  {
   "cell_type": "markdown",
   "metadata": {},
   "source": [
    "<div class=\"alert alert-success\">\n",
    "<b>Step 6 :</b> Execute the circuit on the simulator using 1000 shots.\n",
    "</div>"
   ]
  },
  {
   "cell_type": "code",
   "execution_count": null,
   "metadata": {},
   "outputs": [],
   "source": [
    "##### Insert code here #####\n"
   ]
  },
  {
   "cell_type": "markdown",
   "metadata": {},
   "source": [
    "<div class=\"alert alert-success\">\n",
    "<b>Step 7 :</b> Visualize the results.\n",
    "</div>"
   ]
  },
  {
   "cell_type": "code",
   "execution_count": null,
   "metadata": {},
   "outputs": [],
   "source": [
    "##### Insert code here #####\n"
   ]
  },
  {
   "cell_type": "markdown",
   "metadata": {
    "jp-MarkdownHeadingCollapsed": true
   },
   "source": [
    "# Solutions\n",
    "<div class=\"alert alert-success\">\n",
    "<b>Challenge solution</b>\n"
   ]
  },
  {
   "cell_type": "code",
   "execution_count": null,
   "metadata": {},
   "outputs": [],
   "source": [
    "# Create the QuantumCircuit \"qhz\" \n",
    "qc = QuantumCircuit(3)\n",
    "\n",
    "# Add gates \n",
    "qc.h(0)\n",
    "qc.cx(0,1)\n",
    "qc.cx(1,2)\n",
    "\n",
    "# Add measure (all qubits)\n",
    "qc.measure_all()\n",
    "\n",
    "# Draw the circuit \n",
    "qc.draw(output='mpl')\n"
   ]
  },
  {
   "cell_type": "code",
   "execution_count": null,
   "metadata": {},
   "outputs": [],
   "source": [
    "# execute your circuit using your backend \"ibm_perth\" for example\n",
    "from qiskit.compiler import transpile\n",
    "from qiskit import IBMProvider\n",
    "\n",
    "# Load your account from disk\n",
    "provider=IBMProvider() \n",
    "\n",
    "backend = provider.get_backend('ibm_perth')\n",
    "trans = transpile(qc, backend)\n",
    "\n",
    "job = backend.run(trans, shots=1000)"
   ]
  },
  {
   "cell_type": "code",
   "execution_count": null,
   "metadata": {},
   "outputs": [],
   "source": [
    "# collect the job results and display them\n",
    "result = job.result()\n",
    "\n",
    "counts = result.get_counts()\n",
    "\n",
    "plot_histogram(counts)"
   ]
  }
 ],
 "metadata": {
  "kernelspec": {
   "display_name": "Python 3 (ipykernel)",
   "language": "python",
   "name": "python3"
  },
  "language_info": {
   "codemirror_mode": {
    "name": "ipython",
    "version": 3
   },
   "file_extension": ".py",
   "mimetype": "text/x-python",
   "name": "python",
   "nbconvert_exporter": "python",
   "pygments_lexer": "ipython3",
   "version": "3.9.6"
  }
 },
 "nbformat": 4,
 "nbformat_minor": 4
}
